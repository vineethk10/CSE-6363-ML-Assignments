{
 "cells": [
  {
   "cell_type": "code",
   "execution_count": null,
   "id": "b402a0d7",
   "metadata": {},
   "outputs": [],
   "source": [
    "import pandas as pd\n",
    "import numpy as np\n",
    "import matplotlib.pyplot as plt\n",
    "import seaborn as sns\n",
    "from sklearn import datasets\n",
    "from sklearn.datasets import load_iris\n",
    "from sklearn.model_selection import train_test_split\n",
    "from sklearn.metrics import accuracy_score"
   ]
  },
  {
   "cell_type": "markdown",
   "id": "36761c70",
   "metadata": {},
   "source": [
    "# Loading Data"
   ]
  },
  {
   "cell_type": "code",
   "execution_count": null,
   "id": "82242db6",
   "metadata": {},
   "outputs": [],
   "source": [
    "iris_dataset = load_iris()"
   ]
  },
  {
   "cell_type": "code",
   "execution_count": null,
   "id": "6066fda3",
   "metadata": {
    "scrolled": false
   },
   "outputs": [],
   "source": [
    "iris_dataset"
   ]
  },
  {
   "cell_type": "code",
   "execution_count": null,
   "id": "cdd7f7f7",
   "metadata": {},
   "outputs": [],
   "source": [
    "features = iris_dataset.feature_names\n",
    "features"
   ]
  },
  {
   "cell_type": "markdown",
   "id": "1f912aa3",
   "metadata": {},
   "source": [
    "# Visualizing the data"
   ]
  },
  {
   "cell_type": "code",
   "execution_count": null,
   "id": "44d92b6a",
   "metadata": {},
   "outputs": [],
   "source": [
    "df = pd.DataFrame(iris_dataset['data'],columns=iris_dataset['feature_names'])"
   ]
  },
  {
   "cell_type": "code",
   "execution_count": null,
   "id": "f5eccda5",
   "metadata": {},
   "outputs": [],
   "source": [
    "df['target'] = iris_dataset['target']\n",
    "df['target_name'] = df['target'].map({0:'setosa',1:'versicolor',2:'virginica'})"
   ]
  },
  {
   "cell_type": "code",
   "execution_count": null,
   "id": "db049b64",
   "metadata": {},
   "outputs": [],
   "source": [
    "df.head()"
   ]
  },
  {
   "cell_type": "code",
   "execution_count": null,
   "id": "367e3bd9",
   "metadata": {},
   "outputs": [],
   "source": [
    "df.describe()"
   ]
  },
  {
   "cell_type": "code",
   "execution_count": null,
   "id": "d961c621",
   "metadata": {},
   "outputs": [],
   "source": [
    "sns.pairplot(df,hue='target_name')"
   ]
  },
  {
   "cell_type": "markdown",
   "id": "e8ce446f",
   "metadata": {},
   "source": [
    "# Preparing the Data"
   ]
  },
  {
   "cell_type": "code",
   "execution_count": null,
   "id": "4ff8d430",
   "metadata": {},
   "outputs": [],
   "source": [
    "Data= (iris_dataset.data)\n",
    "Data"
   ]
  },
  {
   "cell_type": "code",
   "execution_count": null,
   "id": "f45a6d0a",
   "metadata": {},
   "outputs": [],
   "source": [
    "Target = (iris_dataset.target)\n",
    "Target"
   ]
  },
  {
   "cell_type": "code",
   "execution_count": null,
   "id": "0ad1eda6",
   "metadata": {},
   "outputs": [],
   "source": [
    "Data_train, Data_test, Target_train, Target_test = train_test_split(Data,Target, random_state = 42, test_size=0.1)"
   ]
  },
  {
   "cell_type": "markdown",
   "id": "16a85376",
   "metadata": {},
   "source": [
    "#  Linear Regression with Batch Gradient Descent"
   ]
  },
  {
   "cell_type": "code",
   "execution_count": null,
   "id": "3604b212",
   "metadata": {},
   "outputs": [],
   "source": [
    "#Class definition\n",
    "class LinearRegression():\n",
    "    def  __init__(self, bias = 0):\n",
    "        self.bias = bias\n",
    "        self.weight = None\n",
    "    \n",
    "    def fit(self, Data, Target, epochs = 100, batchSize = 32, learningRate = 0.01):\n",
    "        \n",
    "        features = Data.shape[1]\n",
    "    \n",
    "        weight = np.ones(shape = (features))\n",
    "        bias = self.bias\n",
    "    \n",
    "        totalRecords = Data.shape[0]\n",
    "        \n",
    "        MeanSquaredErrorList = []\n",
    "        stepList = []\n",
    "    \n",
    "        totalBatches = int(totalRecords/batchSize)\n",
    "    \n",
    "        for var in range(epochs):\n",
    "        \n",
    "            indices = np.random.permutation(totalRecords)\n",
    "        \n",
    "            Data = Data[indices]\n",
    "            Target = Target[indices]\n",
    "        \n",
    "            for i in range(0, totalRecords, batchSize):\n",
    "                Data_i = Data[i : i+batchSize]\n",
    "                Target_i = Target[i : i+batchSize]\n",
    "            \n",
    "                predictedTarget = (weight @ Data_i.T) + bias\n",
    "                # wx + bias\n",
    "            \n",
    "                newWeight =  -(2/len(Data_i)) * (Data_i.T @ (Target_i - predictedTarget))\n",
    "                \n",
    "                newBias = -(2/len(Data_i))*np.sum(Target_i-predictedTarget)\n",
    "            \n",
    "                weight = weight - learningRate * newWeight\n",
    "                bias = bias - learningRate * newBias\n",
    "            \n",
    "                MeanSquaredError = np.mean((Target_i - predictedTarget)**2)\n",
    "        \n",
    "            MeanSquaredErrorList.append(MeanSquaredError)\n",
    "            stepList.append(var)        \n",
    "        \n",
    "        return weight, bias, MeanSquaredError, MeanSquaredErrorList, stepList\n",
    "    \n",
    "    def plot_loss(self, MeanSquaredErrorList, stepList, title):\n",
    "        plt.figure(figsize=(12,8))\n",
    "        plt.plot(stepList, MeanSquaredErrorList)\n",
    "        plt.scatter(stepList, MeanSquaredErrorList, edgecolors=\"Red\")\n",
    "        plt.title(title)\n",
    "        plt.xlabel(\"Step number\", fontsize = 12)\n",
    "        plt.ylabel(\"Loss\", fontsize = 12)\n",
    "        plt.show()\n",
    "        plt.show()\n",
    "    \n",
    "    \n",
    "    def predict(self, Data, weight, bias):\n",
    "        predictions = []\n",
    "\n",
    "        for var in range(len(Data)):\n",
    "            predictedTarget = weight * Data[var] + bias\n",
    "            predictions.append(predictedTarget)\n",
    "\n",
    "        return predictions\n",
    "    \n",
    "    def accuracy(self, pred, y):\n",
    "        loss = np.mean((y - pred)**2)\n",
    "        return loss\n",
    "    "
   ]
  },
  {
   "cell_type": "markdown",
   "id": "55cd97d1",
   "metadata": {},
   "source": [
    "# Linear Regression with L2 regularization"
   ]
  },
  {
   "cell_type": "code",
   "execution_count": null,
   "id": "4552e1ea",
   "metadata": {},
   "outputs": [],
   "source": [
    "class L2LinearRegression():\n",
    "    def  __init__(self, bias = 0):\n",
    "        self.bias = bias\n",
    "        self.weight = None\n",
    "    \n",
    "    def fit(self, Data, Target, L2 = 1, epochs = 100, batchSize = 32, learningRate = 0.01):\n",
    "        features = Data.shape[1]\n",
    "    \n",
    "        weight = np.ones(shape = (features))\n",
    "        bias = self.bias\n",
    "    \n",
    "        totalRecords = Data.shape[0]\n",
    "        \n",
    "        MeanSquaredErrorList = []\n",
    "        stepList = []\n",
    "    \n",
    "        totalBatches = int(totalRecords/batchSize)\n",
    "    \n",
    "        for var in range(epochs):\n",
    "        \n",
    "            indices = np.random.permutation(totalRecords)\n",
    "        \n",
    "            Data = Data[indices]\n",
    "            Target = Target[indices]\n",
    "        \n",
    "            for i in range(0, totalRecords, batchSize):\n",
    "                Data_i = Data[i : i+batchSize]\n",
    "                Target_i = Target[i : i+batchSize]\n",
    "            \n",
    "                predictedTarget = (weight @ Data_i.T) + bias\n",
    "                # wx + bias\n",
    "            \n",
    "                newWeight =  -(2/len(Data_i)) * (Data_i.T @ (Target_i - predictedTarget)) + ((L2) * (weight**2))\n",
    "                \n",
    "                newBias = -(2/len(Data_i))*np.sum(Target_i-predictedTarget)\n",
    "            \n",
    "                weight = weight - learningRate * newWeight\n",
    "                bias = bias - learningRate * newBias\n",
    "            \n",
    "                MeanSquaredError = np.mean((Target_i - predictedTarget)**2)\n",
    "        \n",
    "            MeanSquaredErrorList.append(MeanSquaredError)\n",
    "            stepList.append(var)        \n",
    "        \n",
    "        return weight, bias, MeanSquaredError, MeanSquaredErrorList, stepList\n",
    "    \n",
    "    def plot_loss(self, MeanSquaredErrorList, stepList, title):\n",
    "        plt.figure(figsize=(12,8))\n",
    "        plt.plot(stepList, MeanSquaredErrorList)\n",
    "        plt.scatter(stepList, MeanSquaredErrorList, edgecolors=\"Red\")\n",
    "        plt.title(title)\n",
    "        plt.xlabel(\"Step number\", fontsize = 12)\n",
    "        plt.ylabel(\"Loss\", fontsize = 12)\n",
    "        plt.show()\n",
    "        plt.show()\n",
    "    \n",
    "    \n",
    "    def predict(self, Data, weight, bias):\n",
    "        predictions = []\n",
    "\n",
    "        for var in range(len(Data)):\n",
    "            predictedTarget = weight * Data[var] + bias\n",
    "            predictions.append(predictedTarget)\n",
    "\n",
    "        return predictions\n",
    "    \n",
    "    def accuracy(self, pred, y):\n",
    "        loss = np.mean((y - pred)**2)\n",
    "        return loss\n",
    "    "
   ]
  },
  {
   "cell_type": "markdown",
   "id": "38fdd08b",
   "metadata": {},
   "source": [
    "# Training Data"
   ]
  },
  {
   "cell_type": "markdown",
   "id": "dd982869",
   "metadata": {},
   "source": [
    "## Model 1 : Training Sepal length and Sepal width"
   ]
  },
  {
   "cell_type": "code",
   "execution_count": null,
   "id": "78d27add",
   "metadata": {},
   "outputs": [],
   "source": [
    "model1 = LinearRegression()\n",
    "model1Title = \"Sepal length vs Sepal width\"\n",
    "weight1, bias1, MeanSquaredError1, MeanSquaredErrorList1, stepList1 = model1.fit(Data_train[:,0:1], Data_train[:,1])\n",
    "print(\"Weight = \", weight1)\n",
    "print(\"Bias = \", bias1)\n",
    "print(\"MeanSquaredError = \", MeanSquaredError1)\n",
    "model1.plot_loss(MeanSquaredErrorList1, stepList1,model1Title)"
   ]
  },
  {
   "cell_type": "markdown",
   "id": "0a93d69a",
   "metadata": {},
   "source": [
    "## Model 2 : Training Sepal length and Petal length"
   ]
  },
  {
   "cell_type": "code",
   "execution_count": null,
   "id": "6055a6f7",
   "metadata": {},
   "outputs": [],
   "source": [
    "model2 = LinearRegression()\n",
    "model2Title = \"Sepal length vs Petal length\"\n",
    "weight2, bias2, MeanSquaredError2, MeanSquaredErrorList2, stepList2 = model2.fit(Data_train[:,0:1], Data_train[:,2])\n",
    "print(\"Weight = \", weight2)\n",
    "print(\"Bias = \", bias2)\n",
    "print(\"MeanSquaredError = \", MeanSquaredError2)\n",
    "model2.plot_loss(MeanSquaredErrorList2, stepList2, model2Title)"
   ]
  },
  {
   "cell_type": "markdown",
   "id": "1ac8cd47",
   "metadata": {},
   "source": [
    "## Model 3 : Training Sepal length and Petal width\n"
   ]
  },
  {
   "cell_type": "code",
   "execution_count": null,
   "id": "869bb3c7",
   "metadata": {},
   "outputs": [],
   "source": [
    "model3 = LinearRegression()\n",
    "model3Title = \"Sepal length vs Petal width\"\n",
    "weight3, bias3, MeanSquaredError3, MeanSquaredErrorList3, stepList3 = model3.fit(Data_train[:,0:1], Data_train[:,3])\n",
    "print(\"Weight = \", weight3)\n",
    "print(\"Bias = \", bias3)\n",
    "print(\"MeanSquaredError = \", MeanSquaredError3)\n",
    "model3.plot_loss(MeanSquaredErrorList3, stepList3,model3Title)"
   ]
  },
  {
   "cell_type": "markdown",
   "id": "38eac8a8",
   "metadata": {},
   "source": [
    "## Model 4 : Training Petal length and Petal width\n"
   ]
  },
  {
   "cell_type": "code",
   "execution_count": null,
   "id": "e548d471",
   "metadata": {},
   "outputs": [],
   "source": [
    "model4 = LinearRegression()\n",
    "model4Title = \"Petal length vs Petal width\"\n",
    "weight4, bias4, MeanSquaredError4, MeanSquaredErrorList4, stepList4 = model4.fit(Data_train[:,2:3], Data_train[:,3])\n",
    "print(\"Weight = \", weight4)\n",
    "print(\"Bias = \", bias4)\n",
    "print(\"MeanSquaredError = \", MeanSquaredError4)\n",
    "model4.plot_loss(MeanSquaredErrorList4, stepList4,model4Title)"
   ]
  },
  {
   "cell_type": "markdown",
   "id": "d3bed29d",
   "metadata": {},
   "source": [
    "## Model 5 : Training Petal length and Sepal length\n"
   ]
  },
  {
   "cell_type": "code",
   "execution_count": null,
   "id": "7f898ea0",
   "metadata": {
    "scrolled": true
   },
   "outputs": [],
   "source": [
    "model5 = LinearRegression()\n",
    "model5Title = \"Petal length vs Sepal length\"\n",
    "weight5, bias5, MeanSquaredError5, MeanSquaredErrorList5, stepList5 = model5.fit(Data_train[:,2:3], Data_train[:,0])\n",
    "print(\"Weight = \", weight5)\n",
    "print(\"Bias = \", bias5)\n",
    "print(\"MeanSquaredError = \", MeanSquaredError5)\n",
    "model5.plot_loss(MeanSquaredErrorList5, stepList5,model5Title)"
   ]
  },
  {
   "cell_type": "markdown",
   "id": "260c46df",
   "metadata": {},
   "source": [
    "## Model 6 : Training Petal length and Sepal width\n"
   ]
  },
  {
   "cell_type": "code",
   "execution_count": null,
   "id": "6eb1febe",
   "metadata": {},
   "outputs": [],
   "source": [
    "model6 = LinearRegression()\n",
    "model6Title = \"Petal length vs Sepal width\"\n",
    "weight6, bias6, MeanSquaredError6, MeanSquaredErrorList6, stepList6 = model6.fit(Data_train[:,2:3], Data_train[:,1])\n",
    "print(\"Weight = \", weight6)\n",
    "print(\"Bias = \", bias6)\n",
    "print(\"MeanSquaredError = \", MeanSquaredError6)\n",
    "model6.plot_loss(MeanSquaredErrorList6, stepList6,model6Title)"
   ]
  },
  {
   "cell_type": "markdown",
   "id": "d2f7265d",
   "metadata": {},
   "source": [
    "# Comparing with L2 Regularization\n"
   ]
  },
  {
   "cell_type": "markdown",
   "id": "146579ac",
   "metadata": {},
   "source": [
    "## Comparing Petal length vs Sepal length"
   ]
  },
  {
   "cell_type": "code",
   "execution_count": null,
   "id": "b434edd6",
   "metadata": {},
   "outputs": [],
   "source": [
    "model5_L2 = L2LinearRegression()\n",
    "model5_L2Title = \"Petal length vs Sepal length\"\n",
    "weight5_L2, bias5_L2, MeanSquaredError5_L2, MeanSquaredErrorList5_L2, stepList5_L2 = model5_L2.fit(Data_train[:,2:3], Data_train[:,0])\n",
    "print(\"Weight = \", weight5_L2)\n",
    "print(\"Bias = \", bias5_L2)\n",
    "print(\"MeanSquaredError = \", MeanSquaredError5_L2)\n",
    "model5.plot_loss(MeanSquaredErrorList5_L2, stepList5_L2,model5_L2Title)"
   ]
  },
  {
   "cell_type": "markdown",
   "id": "3b5988b2",
   "metadata": {},
   "source": [
    "# Testing the models\n"
   ]
  },
  {
   "cell_type": "markdown",
   "id": "e9a82d84",
   "metadata": {},
   "source": [
    "## Model 1 : Testing Sepal length and Sepal width"
   ]
  },
  {
   "cell_type": "code",
   "execution_count": null,
   "id": "c89029a2",
   "metadata": {},
   "outputs": [],
   "source": [
    "predict1 = model1.predict(Data_test[:,0:1], weight1, bias1)\n",
    "loss1 = model1.accuracy(predict1, Data_test[:,1])\n",
    "print(\"MeanSquaredError = \",loss1)"
   ]
  },
  {
   "cell_type": "markdown",
   "id": "36ea64cb",
   "metadata": {},
   "source": [
    "## Model 2 : Testing Sepal length and Petal length\n"
   ]
  },
  {
   "cell_type": "code",
   "execution_count": null,
   "id": "84b40303",
   "metadata": {},
   "outputs": [],
   "source": [
    "predict2 = model2.predict(Data_test[:,0:1], weight2, bias2)\n",
    "loss2 = model2.accuracy(predict2, Data_test[:,2])\n",
    "print(\"MeanSquaredError = \",loss2)"
   ]
  },
  {
   "cell_type": "markdown",
   "id": "11dd6ff7",
   "metadata": {},
   "source": [
    "## Model 3 : Testing Sepal length and Petal width\n"
   ]
  },
  {
   "cell_type": "code",
   "execution_count": null,
   "id": "3d675daa",
   "metadata": {},
   "outputs": [],
   "source": [
    "predict3 = model3.predict(Data_test[:,0:1], weight3, bias3)\n",
    "loss3 = model3.accuracy(predict3, Data_test[:,3])\n",
    "print(\"MeanSquaredError = \",loss3)"
   ]
  },
  {
   "cell_type": "markdown",
   "id": "7e1f5889",
   "metadata": {},
   "source": [
    "## Model 4 : Testing Petal length and Petal width\n"
   ]
  },
  {
   "cell_type": "code",
   "execution_count": null,
   "id": "bfb0898d",
   "metadata": {},
   "outputs": [],
   "source": [
    "predict4 = model4.predict(Data_test[:,2:3], weight4, bias4)\n",
    "loss4 = model4.accuracy(predict4, Data_test[:,3])\n",
    "print(\"MeanSquaredError = \",loss4)"
   ]
  },
  {
   "cell_type": "markdown",
   "id": "2c684858",
   "metadata": {},
   "source": [
    "## Model 5 : Testing Petal length and Sepal length\n"
   ]
  },
  {
   "cell_type": "code",
   "execution_count": null,
   "id": "44297e5f",
   "metadata": {},
   "outputs": [],
   "source": [
    "predict5 = model5.predict(Data_test[:,2:3], weight5, bias5)\n",
    "loss5 = model5.accuracy(predict5, Data_test[:,0])\n",
    "print(\"MeanSquaredError = \",loss5)"
   ]
  },
  {
   "cell_type": "markdown",
   "id": "04b1e0cd",
   "metadata": {},
   "source": [
    "## Model 6 : Testing Petal length and Sepal width\n"
   ]
  },
  {
   "cell_type": "code",
   "execution_count": null,
   "id": "64dd77da",
   "metadata": {},
   "outputs": [],
   "source": [
    "predict6 = model6.predict(Data_test[:,2:3], weight6, bias6)\n",
    "loss6 = model6.accuracy(predict6, Data_test[:,1])\n",
    "print(\"MeanSquaredError = \",loss6)"
   ]
  }
 ],
 "metadata": {
  "kernelspec": {
   "display_name": "Python 3 (ipykernel)",
   "language": "python",
   "name": "python3"
  },
  "language_info": {
   "codemirror_mode": {
    "name": "ipython",
    "version": 3
   },
   "file_extension": ".py",
   "mimetype": "text/x-python",
   "name": "python",
   "nbconvert_exporter": "python",
   "pygments_lexer": "ipython3",
   "version": "3.9.7"
  },
  "vscode": {
   "interpreter": {
    "hash": "e719e90a76af3cad2385ae5fc890904b48c06eef5ce494d2435a6d19a99deb1d"
   }
  }
 },
 "nbformat": 4,
 "nbformat_minor": 5
}
