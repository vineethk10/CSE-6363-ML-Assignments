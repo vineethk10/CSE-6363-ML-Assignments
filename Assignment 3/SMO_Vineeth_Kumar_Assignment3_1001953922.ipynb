{
 "cells": [
  {
   "cell_type": "markdown",
   "id": "7d4c780f",
   "metadata": {},
   "source": [
    "<center>\n",
    "<h1>CSE 6363-007: Machine Learning Assignment 3</h1> \n",
    "    <h2>Name: Ananthula, Vineeth Kumar. UTA ID: 1001953922</h2>\n",
    "</center>\n",
    "    "
   ]
  },
  {
   "cell_type": "markdown",
   "id": "34c6fdd8-a4eb-4631-b00c-74a2f87c5b4c",
   "metadata": {
    "id": "34c6fdd8-a4eb-4631-b00c-74a2f87c5b4c"
   },
   "source": [
    "# Non-Linear SVM\n"
   ]
  },
  {
   "cell_type": "code",
   "execution_count": 1,
   "id": "cd8448ef-5302-4772-a3a5-977d70a765a9",
   "metadata": {
    "id": "cd8448ef-5302-4772-a3a5-977d70a765a9"
   },
   "outputs": [],
   "source": [
    "import numpy as np\n",
    "import matplotlib.pyplot as plt\n",
    "from mlxtend.plotting.decision_regions import plot_decision_regions\n",
    "\n",
    "def linear_kernel(x1, x2):\n",
    "    return x1.T @ x2\n",
    "  \n",
    "def poly_kernel(x1, x2):\n",
    "    return (np.dot(x1, x2.T) + 1)**2     # d is by default 2\n",
    "\n",
    "\n",
    "class svm():\n",
    "    def __init__(self, kernel='linear', c=1.0, tol=1e-3, maxiter=1000):\n",
    "        self._kernel = kernel\n",
    "        self._tol = tol\n",
    "        self._maxiter = maxiter\n",
    "        \n",
    "        if self._kernel == 'linear':\n",
    "            self._k = linear_kernel\n",
    "          \n",
    "        elif self._kernel == 'poly':\n",
    "            self._k = poly_kernel\n",
    "        \n",
    "        self._c = c\n",
    "        \n",
    "    def _init_params(self):\n",
    "        self._error_cache = np.zeros(self._data.shape[0])\n",
    "        self._alphas = np.ones(self._data.shape[0]) * .1\n",
    "        self._b = 0\n",
    "        \n",
    "        # if self._kernel == 'linear':\n",
    "        #     self._weights = np.random.rand(self._data.shape[1])\n",
    "        self._weights = np.random.rand(self._data.shape[1])\n",
    "  \n",
    "\n",
    "    def predict_score(self, x):\n",
    "        \"\"\"Predicts a raw score (not classification)\n",
    "        \n",
    "        Arguments\n",
    "            x, array (batch_size, n_features) - input samples.\n",
    "        \"\"\"\n",
    "        u = 0\n",
    "        if self._kernel == 'linear':\n",
    "            u = self._weights @ x.T - self._b\n",
    "        else:\n",
    "            for i in range(self._data.shape[0]):\n",
    "                u += self._targets[i] * self._alphas[i] * self._k(self._data[i], x)\n",
    "            u -= self._b\n",
    "\n",
    "        return u\n",
    "        \n",
    "    def predict(self, x):\n",
    "        \"\"\"Classifies input samples.\n",
    "        \n",
    "        Arguments\n",
    "            x, array (batch_size, n_features) - input samples.\n",
    "        \"\"\"\n",
    "        score = self.predict_score(x)\n",
    "\n",
    "        if type(score) is np.ndarray:\n",
    "            score[score < 0] = -1\n",
    "            score[score >= 0] = 1\n",
    "\n",
    "            return score\n",
    "        else:\n",
    "            return -1 if score < 0 else 1\n",
    "\n",
    "    def smo_step(self, i1, i2):\n",
    "        if i1 == i2:\n",
    "            return 0\n",
    "\n",
    "        x1 = self._data[i1]\n",
    "        x2 = self._data[i2]\n",
    "        y1 = self._targets[i1]\n",
    "        y2 = self._targets[i2]\n",
    "        alpha1 = self._alphas[i1]\n",
    "        alpha2 = self._alphas[i2]\n",
    "\n",
    "        # Compute errors for x1 and x2\n",
    "        e1 = self.predict_score(x1) - y1\n",
    "        e2 = self.predict_score(x2) - y2\n",
    "\n",
    "        s = y1 * y2\n",
    "\n",
    "        if s == 1:\n",
    "            L = max(0, alpha2 + alpha1 - self._c)\n",
    "            H = min(self._c, alpha2 + alpha1)\n",
    "        else:\n",
    "            L = max(0, alpha2 - alpha1)\n",
    "            H = min(self._c, self._c + alpha2 - alpha1)\n",
    "\n",
    "        if L == H:\n",
    "            return 0\n",
    "\n",
    "        k11 = self._k(x1, x1)\n",
    "        k22 = self._k(x2, x2)\n",
    "        k12 = self._k(x1, x2)\n",
    "\n",
    "        eta = k11 + k22 - 2 * k12\n",
    "\n",
    "        if eta > 0:\n",
    "            a2 = alpha2 + y2 * (e1 - e2) / eta\n",
    "            if a2 <= L:\n",
    "                a2 = L\n",
    "            elif a2 >= H:\n",
    "                a2 = H\n",
    "        # TODO: the negative case\n",
    "        else:\n",
    "            L1 = alpha1 + s*(alpha2-L)\n",
    "            H1 = alpha1 + s*(alpha2-H)\n",
    "\n",
    "            f1 = y1*(e1+self._b) - alpha1*k11 - s*alpha2*k12\n",
    "            f2 = y2*(e2+self._b) - alpha2*k22 - s*alpha1*k12\n",
    "\n",
    "            Lobj = L1*f1 + L*f2 + s*L1*L*k12 + 0.5*L*L*k22 + 0.5*L1*L1*k11\n",
    "            Hobj = H1*f1 + H*f2 + s*H1*H*k12 + 0.5*H*H*k22 + 0.5*H1*H1*k11\n",
    "\n",
    "            if Lobj < Hobj- (1e-3):\n",
    "                a2 = L\n",
    "            elif Lobj > Hobj+ (1e-3):\n",
    "                a2 = H \n",
    "            else:\n",
    "                a2 = alpha2\n",
    "\n",
    "            # print(f\"[DEBUG] smo_step: eta = {eta}\")\n",
    "            \n",
    "        if np.abs(a2 - alpha2) < 1e-3 * (a2 + alpha2 + 1e-3):\n",
    "            return 0\n",
    "\n",
    "        a1 = alpha1 + s * (alpha2 - a2)\n",
    "\n",
    "        # Update threshold to reflect change in Lagrange multipliers\n",
    "        b1 = e1 + y1 * (a1 - alpha1) * k11 + y2 * (a2 - alpha2) * k12 + self._b\n",
    "        b2 = e2 + y1 * (a1 - alpha1) * k12 + y2 * (a2 - alpha2) * k22 + self._b\n",
    "        self._b = (b1 + b2) / 2\n",
    "\n",
    "        # Update weight vector to reflect change in a1 & a2, if SVM is linear\n",
    "\n",
    "        # if self._kernel == 'linear':\n",
    "        #     self._weights = np.sum((self._targets * self._alphas)[:, None] * self._data, axis=0)\n",
    "        self._weights = np.sum((self._targets * self._alphas)[:, None] * self._data, axis=0)\n",
    "        \n",
    "        # Store a1 and a2 in alpha array\n",
    "        self._alphas[i1] = a1\n",
    "        self._alphas[i2] = a2\n",
    "\n",
    "        # update error cache using new multipliers\n",
    "        for i in range (self._data.shape[0]):\n",
    "            self._error_cache[i] = self.predict_score(self._data[i]) - self._targets[i]\n",
    "\n",
    "        return 1\n",
    "\n",
    "    def examine(self, i2):\n",
    "        x2 = self._data[i2]\n",
    "        y2 = self._targets[i2]\n",
    "        alpha2 = self._alphas[i2]\n",
    "        e2 = self.predict_score(x2) - y2\n",
    "        r2 = e2 * y2\n",
    "\n",
    "        # Heuristic for picking the first multiplier\n",
    "        if (r2 < -self._tol and alpha2 < self._c) or (r2 > self._tol and alpha2 > 0):\n",
    "            f_idxs = np.where((self._alphas != 0) & (self._alphas != self._c))[0]\n",
    "\n",
    "            if len(f_idxs) > 1:\n",
    "                # Hueristic for second multiplier: get i1 with lowest absolute error |e1 - e2|\n",
    "\n",
    "                # TODO: Clean this up\n",
    "                if e2 > 0:\n",
    "                    min_error = 999999\n",
    "                    for i, v in enumerate(f_idxs):\n",
    "                        if v == i2:\n",
    "                            continue\n",
    "\n",
    "                        if self._error_cache[v] == 0:\n",
    "                            self._error_cache[v] = self.predict_score(self._data[v]) - self._targets[v]\n",
    "                        error = np.abs(e2 - self._error_cache[v])\n",
    "\n",
    "                        if error < min_error:\n",
    "                            min_error = error\n",
    "                            i1 = v\n",
    "                else:\n",
    "                    max_error = -999999\n",
    "                    for i, v in enumerate(f_idxs):\n",
    "                        if v == i2:\n",
    "                            continue\n",
    "\n",
    "                        if self._error_cache[v] == 0:\n",
    "                            self._error_cache[v] = self.predict_score(self._data[v]) - self._targets[v]\n",
    "                        error = np.abs(e2 - self._error_cache[v])\n",
    "\n",
    "                        if error > max_error:\n",
    "                            max_error = error\n",
    "                            i1 = v\n",
    "\n",
    "                if self.smo_step(i1, i2):\n",
    "                    return 1\n",
    "                \n",
    "                # Loop over all non-zero and non-C alpha, starting at random point\n",
    "                for i, v in enumerate(np.random.permutation(f_idxs)):\n",
    "                    if self.smo_step(v, i2):\n",
    "                        return 1\n",
    "                \n",
    "                # Loop over all possible i1, starting at a random point\n",
    "                for i, v in enumerate(np.random.permutation(range(self._data.shape[0]))):\n",
    "                    if v == i2:\n",
    "                        continue\n",
    "                    if self.smo_step(v, i2):\n",
    "                        return 1\n",
    "                \n",
    "        return 0\n",
    "    \n",
    "    def fit(self, data, targets):\n",
    "        self._data = data\n",
    "        self._targets = targets\n",
    "        \n",
    "        self._init_params()\n",
    "        \n",
    "        n_changed = 0\n",
    "        examine_all = True\n",
    "        n_iter = 0\n",
    "        \n",
    "        while (n_changed > 0 or examine_all is True) and n_iter < self._maxiter:\n",
    "            n_changed = 0\n",
    "            n_iter += 1\n",
    "            \n",
    "            if examine_all is True:\n",
    "                # loop over all training examples\n",
    "                for i in range(data.shape[0]):\n",
    "                    n_changed += self.examine(i)\n",
    "            else:\n",
    "                # loop over examples where alpha is not 0 & not C\n",
    "                f_idxs = np.where((self._alphas != 0) & (self._alphas != self._c))[0]\n",
    "                for i, v in enumerate(f_idxs):\n",
    "                    n_changed += self.examine(v)\n",
    "            \n",
    "            if examine_all is True:\n",
    "                examine_all = False\n",
    "            elif n_changed == 0:\n",
    "                examine_all = True"
   ]
  },
  {
   "cell_type": "markdown",
   "id": "6cc141a9",
   "metadata": {},
   "source": [
    "## Dataset"
   ]
  },
  {
   "cell_type": "code",
   "execution_count": 2,
   "id": "e6ca6c46-7d15-415a-9166-8d448b50f3df",
   "metadata": {
    "colab": {
     "base_uri": "https://localhost:8080/"
    },
    "id": "e6ca6c46-7d15-415a-9166-8d448b50f3df",
    "outputId": "1657c7a0-a967-4c5f-cb67-bab774edb55f"
   },
   "outputs": [
    {
     "name": "stdout",
     "output_type": "stream",
     "text": [
      "(100, 2) (100,)\n"
     ]
    }
   ],
   "source": [
    "n_a_samples = 50\n",
    "n_b_samples = 50\n",
    "\n",
    "a_samples = np.random.multivariate_normal([-1, 1], [[0.1, 0], [0, 0.1]], n_a_samples)\n",
    "b_samples = np.random.multivariate_normal([1, -1], [[0.1, 0], [0, 0.1]], n_b_samples)\n",
    "a_targets = np.ones(n_a_samples) * -1  # Samples from class A are assigned a class value of -1.\n",
    "b_targets = np.ones(n_b_samples)  # Samples from class B are assigned a class value of 1.\n",
    "\n",
    "samples = np.concatenate((a_samples, b_samples))\n",
    "targets = np.concatenate((a_targets, b_targets))\n",
    "print(samples.shape, targets.shape)"
   ]
  },
  {
   "cell_type": "code",
   "execution_count": 3,
   "id": "c27b90d2-f103-465a-9e39-83afa3e3ebf5",
   "metadata": {
    "colab": {
     "base_uri": "https://localhost:8080/"
    },
    "id": "c27b90d2-f103-465a-9e39-83afa3e3ebf5",
    "outputId": "4e520672-d0a6-4219-d849-ca7d9eb83539"
   },
   "outputs": [
    {
     "name": "stdout",
     "output_type": "stream",
     "text": [
      "[ 0.69994628 -1.06193222]\n",
      "-0.4016865613433002\n"
     ]
    }
   ],
   "source": [
    "model = svm(c=5.0)\n",
    "model.fit(samples, targets)\n",
    "print(model._weights)\n",
    "print(model._b)"
   ]
  },
  {
   "cell_type": "code",
   "execution_count": 4,
   "id": "c6733d4a-81cb-47de-9c4f-542a1969a3ac",
   "metadata": {
    "colab": {
     "base_uri": "https://localhost:8080/",
     "height": 353
    },
    "id": "c6733d4a-81cb-47de-9c4f-542a1969a3ac",
    "outputId": "0e193198-d7cc-48c8-bff5-d6be2f09f7ed"
   },
   "outputs": [
    {
     "name": "stdout",
     "output_type": "stream",
     "text": [
      "weights=[ 0.69994628 -1.06193222]\n",
      "b=-0.4016865613433002\n"
     ]
    },
    {
     "data": {
      "image/png": "[encoded data removed]",
      "text/plain": [
       "<Figure size 432x288 with 1 Axes>"
      ]
     },
     "metadata": {
      "needs_background": "light"
     },
     "output_type": "display_data"
    }
   ],
   "source": [
    "print(f\"weights={model._weights}\")\n",
    "print(f\"b={model._b}\")\n",
    "\n",
    "fig = plt.figure()\n",
    "ax = plot_decision_regions(samples, targets.astype(np.int32), model)\n",
    "fig.add_subplot(ax)\n",
    "plt.show()"
   ]
  },
  {
   "cell_type": "markdown",
   "id": "jJq7jl7Ullpj",
   "metadata": {
    "id": "jJq7jl7Ullpj"
   },
   "source": [
    "# SKLEARN SVC LINEAR on Linear Data"
   ]
  },
  {
   "cell_type": "code",
   "execution_count": 5,
   "id": "de39a90e",
   "metadata": {
    "colab": {
     "base_uri": "https://localhost:8080/",
     "height": 353
    },
    "id": "de39a90e",
    "outputId": "56ab4379-c96a-432c-ab74-bc43770dff8e"
   },
   "outputs": [
    {
     "name": "stdout",
     "output_type": "stream",
     "text": [
      "coef_=[[ 0.84392899 -0.76200398]]\n",
      "intercept=[0.03560983]\n"
     ]
    },
    {
     "data": {
      "image/png": "[encoded data removed]",
      "text/plain": [
       "<Figure size 432x288 with 1 Axes>"
      ]
     },
     "metadata": {
      "needs_background": "light"
     },
     "output_type": "display_data"
    }
   ],
   "source": [
    "from sklearn.svm import LinearSVC\n",
    "\n",
    "sk_model = LinearSVC()\n",
    "sk_model.fit(samples, targets.astype(np.int32))\n",
    "\n",
    "print(f\"coef_={sk_model.coef_}\")\n",
    "print(f\"intercept={sk_model.intercept_}\")\n",
    "\n",
    "fig = plt.figure()\n",
    "ax = plot_decision_regions(samples, targets.astype(np.int32), sk_model)\n",
    "fig.add_subplot(ax)\n",
    "plt.show()"
   ]
  },
  {
   "cell_type": "markdown",
   "id": "3TpcblxoK5pQ",
   "metadata": {
    "id": "3TpcblxoK5pQ"
   },
   "source": [
    "# Non-Linear SVM from above code on non-linear dataset"
   ]
  },
  {
   "cell_type": "code",
   "execution_count": 6,
   "id": "SER8rDRSJ4bj",
   "metadata": {
    "id": "SER8rDRSJ4bj"
   },
   "outputs": [],
   "source": [
    "from sklearn.datasets import make_circles\n",
    "from sklearn.model_selection import train_test_split\n",
    "from sklearn.metrics import accuracy_score"
   ]
  },
  {
   "cell_type": "code",
   "execution_count": 7,
   "id": "cbooZY0sKjyq",
   "metadata": {
    "id": "cbooZY0sKjyq"
   },
   "outputs": [],
   "source": [
    "X_train, y_train = make_circles(n_samples=(45,45), factor=0.3, noise=0.05, random_state=0)\n",
    "X_test, y_test = make_circles(n_samples=(5,5), factor=0.3, noise=0.05, random_state=0)"
   ]
  },
  {
   "cell_type": "code",
   "execution_count": 8,
   "id": "Pi3YRFjVlKkJ",
   "metadata": {
    "id": "Pi3YRFjVlKkJ"
   },
   "outputs": [],
   "source": [
    "y_train[y_train == 0] = -1 # converting class 0 to class -1\n",
    "y_test[y_test == 0] = -1"
   ]
  },
  {
   "cell_type": "code",
   "execution_count": 9,
   "id": "qDH8pJ7nKogf",
   "metadata": {
    "colab": {
     "base_uri": "https://localhost:8080/",
     "height": 295
    },
    "id": "qDH8pJ7nKogf",
    "outputId": "256ef25a-bc79-4d2c-9448-df086d778977"
   },
   "outputs": [
    {
     "data": {
      "image/png": "[encoded data removed]",
      "text/plain": [
       "<Figure size 576x288 with 2 Axes>"
      ]
     },
     "metadata": {
      "needs_background": "light"
     },
     "output_type": "display_data"
    }
   ],
   "source": [
    "_, (train_ax, test_ax) = plt.subplots(ncols=2, sharex=True, sharey=True, figsize=(8, 4))\n",
    "\n",
    "train_ax.scatter(X_train[:, 0], X_train[:, 1], c=y_train)\n",
    "train_ax.set_ylabel(\"Feature #1\")\n",
    "train_ax.set_xlabel(\"Feature #0\")\n",
    "train_ax.set_title(\"Training data\")\n",
    "\n",
    "test_ax.scatter(X_test[:, 0], X_test[:, 1], c=y_test)\n",
    "test_ax.set_xlabel(\"Feature #0\")\n",
    "_ = test_ax.set_title(\"Testing data\")"
   ]
  },
  {
   "cell_type": "code",
   "execution_count": 10,
   "id": "14dahw59KzH9",
   "metadata": {
    "colab": {
     "base_uri": "https://localhost:8080/"
    },
    "id": "14dahw59KzH9",
    "outputId": "034d95b5-852d-4cd7-d9ef-ca05022952b7"
   },
   "outputs": [
    {
     "name": "stdout",
     "output_type": "stream",
     "text": [
      "Non-Linear my defined SVM for kernel is poly\n",
      "[0.08116281 0.04132347]\n",
      "-1.4282862149557538\n",
      "Non-Linear my defined SVM for kernel is linear\n",
      "[-1.44347712  1.06244932]\n",
      "-1.3211635066932181\n"
     ]
    }
   ],
   "source": [
    "model = svm(kernel='poly',c=5.0)\n",
    "model.fit(X_train, y_train)\n",
    "print(\"Non-Linear my defined SVM for kernel is poly\")\n",
    "print(model._weights)\n",
    "print(model._b)\n",
    "\n",
    "model1 = svm(kernel='linear',c=5.0)\n",
    "model1.fit(X_train, y_train)\n",
    "print(\"Non-Linear my defined SVM for kernel is linear\")\n",
    "print(model1._weights)\n",
    "print(model1._b)"
   ]
  },
  {
   "cell_type": "code",
   "execution_count": 11,
   "id": "les1Lr_iQw1u",
   "metadata": {
    "colab": {
     "base_uri": "https://localhost:8080/",
     "height": 299
    },
    "id": "les1Lr_iQw1u",
    "outputId": "f93da073-2b1f-4da5-a242-dabcc842a763",
    "scrolled": true
   },
   "outputs": [
    {
     "name": "stdout",
     "output_type": "stream",
     "text": [
      "Non-Linear my defined SVM for kernel is poly\n",
      "weights=[0.08116281 0.04132347]\n",
      "b=-1.4282862149557538\n"
     ]
    },
    {
     "data": {
      "image/png": "[encoded data removed]",
      "text/plain": [
       "<Figure size 576x288 with 2 Axes>"
      ]
     },
     "metadata": {
      "needs_background": "light"
     },
     "output_type": "display_data"
    }
   ],
   "source": [
    "print(\"Non-Linear my defined SVM for kernel is poly\")\n",
    "print(f\"weights={model._weights}\")\n",
    "print(f\"b={model._b}\")\n",
    "\n",
    "_, (train_ax, test_ax) = plt.subplots(ncols=2, sharex=True, sharey=True, figsize=(8, 4))\n",
    "\n",
    "\n",
    "plt.subplot(1,2,1)\n",
    "train = plot_decision_regions(X_train, y_train.astype(np.int32), model)\n",
    "\n",
    "\n",
    "plt.subplot(1,2,2)\n",
    "test = plot_decision_regions(X_test, y_test.astype(np.int32), model)\n",
    "\n",
    "plt.show()"
   ]
  },
  {
   "cell_type": "code",
   "execution_count": 12,
   "id": "cb7eed51",
   "metadata": {},
   "outputs": [
    {
     "name": "stdout",
     "output_type": "stream",
     "text": [
      "Non-Linear my defined SVM for kernel is linear\n",
      "weights=[-1.44347712  1.06244932]\n",
      "b=-1.3211635066932181\n"
     ]
    },
    {
     "data": {
      "image/png": "[encoded data removed]",
      "text/plain": [
       "<Figure size 576x288 with 2 Axes>"
      ]
     },
     "metadata": {
      "needs_background": "light"
     },
     "output_type": "display_data"
    }
   ],
   "source": [
    "print(\"Non-Linear my defined SVM for kernel is linear\")\n",
    "print(f\"weights={model1._weights}\")\n",
    "print(f\"b={model1._b}\")\n",
    "\n",
    "_, (train_ax, test_ax) = plt.subplots(ncols=2, sharex=True, sharey=True, figsize=(8, 4))\n",
    "\n",
    "\n",
    "plt.subplot(1,2,1)\n",
    "train = plot_decision_regions(X_train, y_train.astype(np.int32), model1)\n",
    "\n",
    "\n",
    "plt.subplot(1,2,2)\n",
    "test = plot_decision_regions(X_test, y_test.astype(np.int32), model1)\n",
    "\n",
    "plt.show()"
   ]
  },
  {
   "cell_type": "markdown",
   "id": "_n1jl_NkofYj",
   "metadata": {
    "id": "_n1jl_NkofYj"
   },
   "source": [
    "# Calculating accuracy for Non-Linear my defined SVM for kernel is poly and linear"
   ]
  },
  {
   "cell_type": "code",
   "execution_count": 13,
   "id": "8zj4LYm1nsOn",
   "metadata": {
    "colab": {
     "base_uri": "https://localhost:8080/"
    },
    "id": "8zj4LYm1nsOn",
    "outputId": "f042564a-181a-4350-a4e0-05113ac33163"
   },
   "outputs": [
    {
     "name": "stdout",
     "output_type": "stream",
     "text": [
      "Accuracy of Non-Linear my defined SVM for kernel is poly = 100.0\n",
      "Accuracy of Non-Linear my defined SVM for kernel is linear = 70.0\n"
     ]
    }
   ],
   "source": [
    "pred = model.predict(X_test)\n",
    "pred1 = model1.predict(X_test)\n",
    "print(\"Accuracy of Non-Linear my defined SVM for kernel is poly =\", accuracy_score(y_test,pred)*100)\n",
    "print(\"Accuracy of Non-Linear my defined SVM for kernel is linear =\", accuracy_score(y_test,pred1)*100)"
   ]
  },
  {
   "cell_type": "markdown",
   "id": "X_m-bpIlFh4E",
   "metadata": {
    "id": "X_m-bpIlFh4E"
   },
   "source": [
    "# SKLEARN SVC NON-LINEAR on non-linear dataset"
   ]
  },
  {
   "cell_type": "code",
   "execution_count": 14,
   "id": "OELz-q3Kjy6C",
   "metadata": {
    "colab": {
     "base_uri": "https://localhost:8080/",
     "height": 319
    },
    "id": "OELz-q3Kjy6C",
    "outputId": "9f2f8b7c-bd49-42a7-94c3-653f289a5fbe"
   },
   "outputs": [
    {
     "name": "stdout",
     "output_type": "stream",
     "text": [
      "Accuracy of poly SKLEARN SVC NON-LINEAR on non-linear dataset =  100.0\n"
     ]
    },
    {
     "data": {
      "image/png": "[encoded data removed]",
      "text/plain": [
       "<Figure size 432x288 with 1 Axes>"
      ]
     },
     "metadata": {
      "needs_background": "light"
     },
     "output_type": "display_data"
    },
    {
     "data": {
      "image/png": "[encoded data removed]",
      "text/plain": [
       "<Figure size 432x288 with 1 Axes>"
      ]
     },
     "metadata": {
      "needs_background": "light"
     },
     "output_type": "display_data"
    }
   ],
   "source": [
    "from sklearn import svm as sksvm\n",
    "\n",
    "\n",
    "clf1 = sksvm.SVC(kernel='poly', degree=2) # built in function\n",
    "clf1.fit(X_train, y_train)\n",
    "\n",
    "y_pred_poly = model.predict(X_test)\n",
    "\n",
    "print(\"Accuracy of poly SKLEARN SVC NON-LINEAR on non-linear dataset = \", accuracy_score(y_pred_poly,y_test)*100)\n",
    "\n",
    "fig = plt.figure()\n",
    "ax = plot_decision_regions(X_train, y_train.astype(np.int32), clf1)\n",
    "fig.add_subplot(ax)\n",
    "plt.show()\n",
    "\n",
    "fig = plt.figure()\n",
    "ax = plot_decision_regions(X_test, y_test.astype(np.int32), clf1)\n",
    "fig.add_subplot(ax)\n",
    "plt.show()"
   ]
  },
  {
   "cell_type": "markdown",
   "id": "vlG-tEOjFsPW",
   "metadata": {
    "id": "vlG-tEOjFsPW"
   },
   "source": [
    "# SKLEARN SVC LINEAR on non-linear dataset"
   ]
  },
  {
   "cell_type": "code",
   "execution_count": 15,
   "id": "hk-fsYbyqdsb",
   "metadata": {
    "colab": {
     "base_uri": "https://localhost:8080/",
     "height": 319
    },
    "id": "hk-fsYbyqdsb",
    "outputId": "87f1f725-989b-4484-f4b6-dc104e388914"
   },
   "outputs": [
    {
     "name": "stdout",
     "output_type": "stream",
     "text": [
      "Accuracy of linear SKLEARN SVC LINEAR on non-linear dataset =  100.0\n"
     ]
    },
    {
     "data": {
      "image/png": "[encoded data removed]",
      "text/plain": [
       "<Figure size 432x288 with 1 Axes>"
      ]
     },
     "metadata": {
      "needs_background": "light"
     },
     "output_type": "display_data"
    },
    {
     "data": {
      "image/png": "[encoded data removed]",
      "text/plain": [
       "<Figure size 432x288 with 1 Axes>"
      ]
     },
     "metadata": {
      "needs_background": "light"
     },
     "output_type": "display_data"
    }
   ],
   "source": [
    "clf2 = sksvm.SVC(kernel='linear') # built in function\n",
    "clf2.fit(X_train, y_train)\n",
    "\n",
    "y_pred_linear = model.predict(X_test)\n",
    "\n",
    "print(\"Accuracy of linear SKLEARN SVC LINEAR on non-linear dataset = \", accuracy_score(y_pred_linear,y_test)*100)\n",
    "\n",
    "fig = plt.figure()\n",
    "ax = plot_decision_regions(X_train, y_train, clf2)\n",
    "fig.add_subplot(ax)\n",
    "plt.show()\n",
    "\n",
    "fig = plt.figure()\n",
    "ax = plot_decision_regions(X_test, y_test, clf2)\n",
    "fig.add_subplot(ax)\n",
    "plt.show()"
   ]
  },
  {
   "cell_type": "markdown",
   "id": "GZ0zlptbF9ps",
   "metadata": {
    "id": "GZ0zlptbF9ps"
   },
   "source": [
    "# Multi-class SVM"
   ]
  },
  {
   "cell_type": "code",
   "execution_count": 16,
   "id": "lFyblftSJKZZ",
   "metadata": {
    "colab": {
     "base_uri": "https://localhost:8080/"
    },
    "id": "lFyblftSJKZZ",
    "outputId": "7c6ea70a-ce71-4de8-a5fa-c13064aad87a"
   },
   "outputs": [
    {
     "name": "stdout",
     "output_type": "stream",
     "text": [
      "(135, 4) (15, 4) (135,) (15,)\n"
     ]
    }
   ],
   "source": [
    "import sklearn\n",
    "d = sklearn.datasets.load_iris()\n",
    "data = np.array(d.data)\n",
    "targets = np.array(d.target)\n",
    "\n",
    "X_train_multi, X_test_multi, y_train_multi, y_test_multi = sklearn.model_selection.train_test_split( data, targets, test_size=0.1, random_state=0)\n",
    "\n",
    "print(X_train_multi.shape, X_test_multi.shape, y_train_multi.shape, y_test_multi.shape)"
   ]
  },
  {
   "cell_type": "code",
   "execution_count": 17,
   "id": "jn0AOKfWqhrX",
   "metadata": {
    "id": "jn0AOKfWqhrX"
   },
   "outputs": [],
   "source": [
    "class MultiSvm():\n",
    "    def __init__(self, k=3, kernel='linear', c=1.0, tol=1e-3, maxiter=1000):\n",
    "        self.k = k\n",
    "        self.classifiers = []\n",
    "        for i in range(k):\n",
    "            curr_svm = svm(kernel=kernel,c=c,tol=tol,maxiter=maxiter)\n",
    "            self.classifiers.append(curr_svm)\n",
    "    \n",
    "    def fit(self, data, targets):\n",
    "        for i in range(self.k):\n",
    "            f = np.vectorize(lambda x: -1 if x != i else 1) # convert the current class to 1 and remaining to -1\n",
    "            new_targets = f(targets)\n",
    "            self.classifiers[i].fit(data,new_targets)\n",
    "    \n",
    "    def predict(self, data):\n",
    "        t = self.classifiers[0].predict_score(data)\n",
    "        for i in range(1,self.k):\n",
    "            preds = self.classifiers[i].predict_score(data)\n",
    "            t = np.vstack((t,preds))\n",
    "        return t.argmax(axis=0)  # as mentioned in the assignment, took the class with largest score\n",
    "\n",
    "                "
   ]
  },
  {
   "cell_type": "code",
   "execution_count": 18,
   "id": "QU6rqzJqN0Pt",
   "metadata": {
    "id": "QU6rqzJqN0Pt"
   },
   "outputs": [],
   "source": [
    "multisvm = MultiSvm(k=3, kernel='linear', c=5.0)   # k here is the number of classes\n",
    "multisvm.fit(X_train_multi ,y_train_multi)"
   ]
  },
  {
   "cell_type": "markdown",
   "id": "DNMLVtKe4bKL",
   "metadata": {
    "id": "DNMLVtKe4bKL"
   },
   "source": [
    "# Accuracy of linear SVM with my defined Multi-class SVM"
   ]
  },
  {
   "cell_type": "code",
   "execution_count": 19,
   "id": "hKa7IQLmP4dd",
   "metadata": {
    "colab": {
     "base_uri": "https://localhost:8080/"
    },
    "id": "hKa7IQLmP4dd",
    "outputId": "8b53b97f-095b-40ce-d27c-bab3bbdbde16"
   },
   "outputs": [
    {
     "name": "stdout",
     "output_type": "stream",
     "text": [
      "Linear My Defined Multi-class SVM, accuracy = 93.33333333333333\n"
     ]
    }
   ],
   "source": [
    "preds = multisvm.predict(X_test_multi)\n",
    "print(\"Linear My Defined Multi-class SVM, accuracy =\", accuracy_score(y_test_multi,preds)*100)"
   ]
  },
  {
   "cell_type": "markdown",
   "id": "kohGIuNN4sFa",
   "metadata": {
    "id": "kohGIuNN4sFa"
   },
   "source": [
    "# Accuracy of non linear SVM with my defined Multi-class SVM"
   ]
  },
  {
   "cell_type": "code",
   "execution_count": 20,
   "id": "wUVFjtqM4v-L",
   "metadata": {
    "id": "wUVFjtqM4v-L"
   },
   "outputs": [],
   "source": [
    "multisvm2 = MultiSvm(k=3, kernel='poly', c=5.0)   # k here is the number of classes\n",
    "multisvm2.fit(X_train_multi ,y_train_multi)"
   ]
  },
  {
   "cell_type": "code",
   "execution_count": 21,
   "id": "Y2w1D_8z4-ZT",
   "metadata": {
    "colab": {
     "base_uri": "https://localhost:8080/"
    },
    "id": "Y2w1D_8z4-ZT",
    "outputId": "b442d271-454b-4c13-ef2d-40e59eeaccd5"
   },
   "outputs": [
    {
     "name": "stdout",
     "output_type": "stream",
     "text": [
      "Non Linear My Defined SVM multi class, accuracy = 100.0\n"
     ]
    }
   ],
   "source": [
    "preds = multisvm2.predict(X_test_multi)\n",
    "print(\"Non Linear My Defined SVM multi class, accuracy =\", accuracy_score(y_test_multi,preds)*100)"
   ]
  },
  {
   "cell_type": "markdown",
   "id": "p-JuvESNsTkQ",
   "metadata": {
    "id": "p-JuvESNsTkQ"
   },
   "source": [
    "# SKLEARN SVC LINEAR AND NON-LINEAR"
   ]
  },
  {
   "cell_type": "code",
   "execution_count": 22,
   "id": "Ck--7PzhsWgy",
   "metadata": {
    "colab": {
     "base_uri": "https://localhost:8080/"
    },
    "id": "Ck--7PzhsWgy",
    "outputId": "670a57c1-82aa-42fb-cd8a-179e325e34f1"
   },
   "outputs": [
    {
     "name": "stdout",
     "output_type": "stream",
     "text": [
      "SK Learn Linear Multi-class SVM, accuracy = 100.0\n",
      "SK Learn non Linear Multi-class SVM, accuracy = 100.0\n"
     ]
    },
    {
     "name": "stderr",
     "output_type": "stream",
     "text": [
      "C:\\ProgramData\\Anaconda3\\lib\\site-packages\\sklearn\\svm\\_base.py:985: ConvergenceWarning: Liblinear failed to converge, increase the number of iterations.\n",
      "  warnings.warn(\"Liblinear failed to converge, increase \"\n"
     ]
    }
   ],
   "source": [
    "lin_clf = sksvm.LinearSVC()\n",
    "lin_clf.fit(X_train_multi, y_train_multi)\n",
    "\n",
    "pred = lin_clf.predict(X_test_multi)\n",
    "print(\"SK Learn Linear Multi-class SVM, accuracy =\",accuracy_score(y_test_multi,pred)*100)\n",
    "\n",
    "clf = sksvm.SVC(kernel='poly',degree=2)\n",
    "clf.fit(X_train_multi, y_train_multi)\n",
    "pred = clf.predict(X_test_multi)\n",
    "print(\"SK Learn non Linear Multi-class SVM, accuracy =\", accuracy_score(y_test_multi,pred)*100)"
   ]
  },
  {
   "cell_type": "markdown",
   "id": "2f4779e3",
   "metadata": {},
   "source": [
    "## Refereneces: https://github.com/ajdillhoff/CSE6363/blob/main/svm/smo.ipynb"
   ]
  }
 ],
 "metadata": {
  "colab": {
   "provenance": []
  },
  "kernelspec": {
   "display_name": "Python 3 (ipykernel)",
   "language": "python",
   "name": "python3"
  },
  "language_info": {
   "codemirror_mode": {
    "name": "ipython",
    "version": 3
   },
   "file_extension": ".py",
   "mimetype": "text/x-python",
   "name": "python",
   "nbconvert_exporter": "python",
   "pygments_lexer": "ipython3",
   "version": "3.9.7"
  },
  "vscode": {
   "interpreter": {
    "hash": "ec212871e462c9aca7e468d49c2f2a64f2148e2f99b4852dc4e63b4d9704736d"
   }
  }
 },
 "nbformat": 4,
 "nbformat_minor": 5
}
